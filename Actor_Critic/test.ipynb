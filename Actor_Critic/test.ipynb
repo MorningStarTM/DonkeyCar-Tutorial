{
 "cells": [
  {
   "cell_type": "code",
   "execution_count": 1,
   "metadata": {},
   "outputs": [],
   "source": [
    "from actor_critic import ActorCritic\n",
    "import torch"
   ]
  },
  {
   "cell_type": "code",
   "execution_count": 3,
   "metadata": {},
   "outputs": [
    {
     "name": "stdout",
     "output_type": "stream",
     "text": [
      "Action Logits: tensor([[-0.1135, -0.1091,  0.1917,  0.1369, -0.0255, -0.1596, -0.0360,  0.1841,\n",
      "          0.1935, -0.1369]], device='cuda:0', grad_fn=<AddmmBackward0>)\n",
      "State Value: tensor([[0.1113]], device='cuda:0', grad_fn=<AddmmBackward0>)\n",
      "Action Probabilities: tensor([[0.0873, 0.0877, 0.1184, 0.1121, 0.0953, 0.0834, 0.0943, 0.1175, 0.1187,\n",
      "         0.0853]], device='cuda:0', grad_fn=<SoftmaxBackward0>)\n"
     ]
    }
   ],
   "source": [
    "# Define the configuration\n",
    "config = {\n",
    "    'actions': 10,\n",
    "    'lr': 1e-4, \n",
    "}\n",
    "\n",
    "model = ActorCritic(config)\n",
    "\n",
    "sample_observation = torch.randn(1, 3, 512, 512, device=model.device)  # Batch size, Channels, Height, Width\n",
    "\n",
    "\n",
    "action_logits, state_value = model(sample_observation)\n",
    "\n",
    "# Print the outputs\n",
    "print(\"Action Logits:\", action_logits)\n",
    "print(\"State Value:\", state_value)\n",
    "\n",
    "# Optional: Convert logits to probabilities (softmax)\n",
    "action_probabilities = torch.softmax(action_logits, dim=-1)\n",
    "print(\"Action Probabilities:\", action_probabilities)\n"
   ]
  },
  {
   "cell_type": "code",
   "execution_count": null,
   "metadata": {},
   "outputs": [],
   "source": []
  }
 ],
 "metadata": {
  "kernelspec": {
   "display_name": "l2rpn-test",
   "language": "python",
   "name": "python3"
  },
  "language_info": {
   "codemirror_mode": {
    "name": "ipython",
    "version": 3
   },
   "file_extension": ".py",
   "mimetype": "text/x-python",
   "name": "python",
   "nbconvert_exporter": "python",
   "pygments_lexer": "ipython3",
   "version": "3.10.14"
  }
 },
 "nbformat": 4,
 "nbformat_minor": 2
}
